{
 "cells": [
  {
   "cell_type": "markdown",
   "id": "8cece734",
   "metadata": {},
   "source": [
    "# make your session"
   ]
  },
  {
   "cell_type": "markdown",
   "id": "adbde76d",
   "metadata": {},
   "source": [
    "## to functions use"
   ]
  },
  {
   "cell_type": "code",
   "execution_count": null,
   "id": "dc8b3f4f",
   "metadata": {},
   "outputs": [],
   "source": [
    "access_key_id=''#replace your access key id here\n",
    "secret_access_key='' #replace your secret access key id here\n",
    "region = 'eu-west-1' # replace your region\n",
    "session = boto3.Session(\n",
    "        aws_access_key_id=access_key_id,\n",
    "        aws_secret_access_key=secret_access_key,\n",
    "        region_name=region\n",
    "    )"
   ]
  },
  {
   "cell_type": "markdown",
   "id": "fa8e17d3",
   "metadata": {},
   "source": [
    "# 1 create_db_instance"
   ]
  },
  {
   "cell_type": "markdown",
   "id": "551deb8a",
   "metadata": {},
   "source": [
    "     \"\"\"\n",
    "    Creates a new Amazon RDS database instance using boto3 RDS client.\n",
    "\n",
    "    Parameters:\n",
    "    - db_instance_identifier (str): The identifier for the new DB instance.\n",
    "    - db_name (str): The name of the database to create within the instance.\n",
    "    - db_user (str): The master username for the DB instance.\n",
    "    - db_password (str): The master password for the DB instance.\n",
    "    - db_instance_class (str): The DB instance class/type (default: db.t3.micro).\n",
    "    - engine (str): The database engine type (default: mysql).\n",
    "    - allocated_storage (int): The storage capacity allocated for the database in GB (default: 20).\n",
    "    - publicly_accessible (bool): Whether the DB instance is publicly accessible (default: False).\n",
    "    - region (str): The AWS region to create the instance in (default: 'us-east-1').\n",
    "\n",
    "    Returns:\n",
    "    - response (dict): Response from the create_db_instance API call.\n",
    "                      Contains information about the created database instance.\n",
    "    \"\"\""
   ]
  },
  {
   "cell_type": "code",
   "execution_count": 14,
   "id": "d2bd9078",
   "metadata": {},
   "outputs": [],
   "source": [
    "import boto3\n",
    "from botocore.exceptions import ClientError\n",
    "\n",
    "def create_db_instance(session, db_instance_identifier, db_name, db_user, db_password, db_instance_class='db.t3.micro', engine='mysql', allocated_storage=20, publicly_accessible=False, region='us-east-1'):\n",
    "    \n",
    "    # Initialize the RDS client with AWS credentials and region\n",
    "    rds = session.client('rds')\n",
    "\n",
    "    # Determine engine type-specific parameters\n",
    "    if engine == 'mysql':\n",
    "        db_port = 3306\n",
    "    elif engine == 'sqlserver-ex':\n",
    "        db_port = 1433\n",
    "    else:\n",
    "        raise ValueError(f\"Unsupported engine type: {engine}\")\n",
    "\n",
    "    # Create a new RDS database instance\n",
    "    try:\n",
    "        response = rds.create_db_instance(\n",
    "            DBName=db_name,\n",
    "            DBInstanceIdentifier=db_instance_identifier,\n",
    "            AllocatedStorage=allocated_storage,\n",
    "            DBInstanceClass=db_instance_class,\n",
    "            Engine=engine,\n",
    "            MasterUsername=db_user,\n",
    "            MasterUserPassword=db_password,\n",
    "            Port=db_port,\n",
    "            PubliclyAccessible=publicly_accessible,\n",
    "            MultiAZ=False,  # Change to True for Multi-AZ deployment\n",
    "            StorageType='gp2',  # Change as per your requirement\n",
    "            BackupRetentionPeriod=7,  # Change as per your requirement\n",
    "            LicenseModel='general-public-license',  # Change as per your requirement\n",
    "            Tags=[\n",
    "                {'Key': 'Name', 'Value': db_instance_identifier},  # Add tags as needed\n",
    "            ]\n",
    "        )\n",
    "        return response  # Return the response from the create_db_instance API call\n",
    "\n",
    "    except ClientError as e:\n",
    "        print(f\"Error creating RDS instance: {e}\")\n",
    "        return None\n"
   ]
  },
  {
   "cell_type": "markdown",
   "id": "4dcf9afa",
   "metadata": {},
   "source": [
    " ### example"
   ]
  },
  {
   "cell_type": "code",
   "execution_count": null,
   "id": "b50a3d3f",
   "metadata": {},
   "outputs": [],
   "source": [
    "db_instance_identifier = 'irissahani'\n",
    "db_name = 'irissahani'\n",
    "db_user = 'admin'\n",
    "db_password = 'password' \n",
    "create_db_instance(session, db_instance_identifier, db_name, db_user, db_password)"
   ]
  },
  {
   "cell_type": "markdown",
   "id": "4d1cf7c8",
   "metadata": {},
   "source": [
    "# 2 describe_rds_instance "
   ]
  },
  {
   "cell_type": "markdown",
   "id": "9fe30974",
   "metadata": {},
   "source": [
    "    \"\"\"\n",
    "    Retrieves information about an existing Amazon RDS instance.\n",
    "\n",
    "    Parameters:\n",
    "    - instance_id: Identifier for the RDS instance.\n",
    "\n",
    "    Returns:\n",
    "    - Dictionary containing detailed information about the RDS instance.\n",
    "    \"\"\""
   ]
  },
  {
   "cell_type": "code",
   "execution_count": 94,
   "id": "8cc8c712",
   "metadata": {},
   "outputs": [],
   "source": [
    "def describe_rds_instance(instance_id, session):\n",
    "    rds = session.client('rds')\n",
    "    \n",
    "    response = rds.describe_db_instances(DBInstanceIdentifier=instance_id)\n",
    "    return response['DBInstances'][0] if response['DBInstances'] else None\n"
   ]
  },
  {
   "cell_type": "markdown",
   "id": "7db8e50e",
   "metadata": {},
   "source": [
    " ### example"
   ]
  },
  {
   "cell_type": "code",
   "execution_count": null,
   "id": "a83f5bb7",
   "metadata": {},
   "outputs": [],
   "source": [
    "describe_rds_instance(\"store\", session)"
   ]
  },
  {
   "cell_type": "markdown",
   "id": "30d50e71",
   "metadata": {},
   "source": [
    "# 3 modify_rds_instance"
   ]
  },
  {
   "cell_type": "markdown",
   "id": "9c9633dc",
   "metadata": {},
   "source": [
    "    \"\"\"\n",
    "    Modifies an existing Amazon RDS instance.\n",
    "\n",
    "    Parameters:\n",
    "    - instance_id: Identifier for the RDS instance to modify.\n",
    "    - db_instance_class: New RDS instance class (e.g., db.t2.medium).\n",
    "\n",
    "    Returns:\n",
    "    - Response object indicating the success of the modification request.\n",
    "    \"\"\""
   ]
  },
  {
   "cell_type": "code",
   "execution_count": 96,
   "id": "2f946ab4",
   "metadata": {},
   "outputs": [],
   "source": [
    "def modify_rds_instance(instance_id, db_instance_class, session):\n",
    "    rds = session.client('rds')\n",
    "    \n",
    "    response = rds.modify_db_instance(\n",
    "        DBInstanceIdentifier=instance_id,\n",
    "        DBInstanceClass=db_instance_class,\n",
    "        ApplyImmediately=True\n",
    "    )\n",
    "    return response\n"
   ]
  },
  {
   "cell_type": "markdown",
   "id": "b687f653",
   "metadata": {},
   "source": [
    " ### example"
   ]
  },
  {
   "cell_type": "code",
   "execution_count": null,
   "id": "12863df7",
   "metadata": {},
   "outputs": [],
   "source": [
    "instance_id = \"shanishani\"\n",
    "new_instance_class = 'db.t3.micro'   # Replace with the new instance class you want to set\n",
    "\n",
    "    # Call modify_rds_instance function\n",
    "response = modify_rds_instance(instance_id, new_instance_class, session)\n",
    "\n",
    "print(\"Modification response:\", response)"
   ]
  },
  {
   "cell_type": "markdown",
   "id": "e5ccadfa",
   "metadata": {},
   "source": [
    "# 4 create_read_replica"
   ]
  },
  {
   "cell_type": "markdown",
   "id": "5220fc13",
   "metadata": {},
   "source": [
    "    \"\"\"\n",
    "    Creates a read replica for an existing Amazon RDS instance.\n",
    "\n",
    "    Parameters:\n",
    "    - source_db_instance_id: Identifier of the source RDS instance.\n",
    "    - replica_db_instance_id: Identifier for the new read replica instance.\n",
    "\n",
    "    Returns:\n",
    "    - Response object indicating the success of the read replica creation.\n",
    "    \"\"\""
   ]
  },
  {
   "cell_type": "code",
   "execution_count": 28,
   "id": "5624c7fd",
   "metadata": {},
   "outputs": [],
   "source": [
    "def create_read_replica(source_db_instance_id, replica_db_instance_id, session):\n",
    "    rds = session.client('rds')\n",
    "    \n",
    "    response = rds.create_db_instance_read_replica(\n",
    "        DBInstanceIdentifier=replica_db_instance_id,\n",
    "        SourceDBInstanceIdentifier=source_db_instance_id,\n",
    "        # Add more parameters as needed\n",
    "    )\n",
    "    return response\n"
   ]
  },
  {
   "cell_type": "markdown",
   "id": "9fd5ed4c",
   "metadata": {},
   "source": [
    " ### example"
   ]
  },
  {
   "cell_type": "code",
   "execution_count": null,
   "id": "f2382c90",
   "metadata": {},
   "outputs": [],
   "source": [
    "create_read_replica(\"irisDBShaniS\", \"replicairisDBShaniS\", session)"
   ]
  },
  {
   "cell_type": "markdown",
   "id": "fe6bf674",
   "metadata": {},
   "source": [
    "# 5 enable_automated_backups\n"
   ]
  },
  {
   "cell_type": "markdown",
   "id": "d50fcbf7",
   "metadata": {},
   "source": [
    "    \"\"\"\n",
    "    Enables automated backups for an existing Amazon RDS instance.\n",
    "\n",
    "    Parameters:\n",
    "    - instance_id: Identifier of the RDS instance.\n",
    "\n",
    "    Returns:\n",
    "    - Response object indicating the success of enabling automated backups.\n",
    "    \"\"\""
   ]
  },
  {
   "cell_type": "code",
   "execution_count": 104,
   "id": "74bdd6cd",
   "metadata": {},
   "outputs": [],
   "source": [
    "def enable_automated_backups(instance_id, session):\n",
    "    rds = session.client('rds')\n",
    "    \n",
    "    response = rds.modify_db_instance(\n",
    "        DBInstanceIdentifier=instance_id,\n",
    "        BackupRetentionPeriod=7,  # Retain backups for 7 days\n",
    "        ApplyImmediately=True\n",
    "    )\n",
    "    return response\n"
   ]
  },
  {
   "cell_type": "markdown",
   "id": "595932ce",
   "metadata": {},
   "source": [
    " ### example"
   ]
  },
  {
   "cell_type": "code",
   "execution_count": null,
   "id": "2613bf40",
   "metadata": {},
   "outputs": [],
   "source": [
    "enable_automated_backups(\"sshani\", session)"
   ]
  },
  {
   "cell_type": "markdown",
   "id": "6bd1e09f",
   "metadata": {},
   "source": [
    "# 6 take_db_snapshot"
   ]
  },
  {
   "cell_type": "markdown",
   "id": "2dbcdc10",
   "metadata": {},
   "source": [
    "    \"\"\"\n",
    "    Creates a manual snapshot of an existing Amazon RDS instance.\n",
    "\n",
    "    Parameters:\n",
    "    - instance_id: Identifier of the RDS instance to snapshot.\n",
    "    - snapshot_id: Identifier for the new DB snapshot.\n",
    "\n",
    "    Returns:\n",
    "    - Response object indicating the success of the snapshot creation.\n",
    "    \"\"\""
   ]
  },
  {
   "cell_type": "code",
   "execution_count": 32,
   "id": "f3d5a31c",
   "metadata": {},
   "outputs": [],
   "source": [
    "def take_db_snapshot(instance_id, snapshot_id, session):\n",
    "\n",
    "    rds = session.client('rds')\n",
    "    response = rds.create_db_snapshot(\n",
    "        DBSnapshotIdentifier=snapshot_id,\n",
    "        DBInstanceIdentifier=instance_id\n",
    "    )\n",
    "    return response\n"
   ]
  },
  {
   "cell_type": "markdown",
   "id": "716b1991",
   "metadata": {},
   "source": [
    " ### example"
   ]
  },
  {
   "cell_type": "code",
   "execution_count": null,
   "id": "9e1c656f",
   "metadata": {},
   "outputs": [],
   "source": [
    "take_db_snapshot(\"store\", \"storesnapshotstore\", session)"
   ]
  },
  {
   "cell_type": "markdown",
   "id": "b9464ec0",
   "metadata": {},
   "source": [
    "# 7 restore_db_instance_from_snapshot"
   ]
  },
  {
   "cell_type": "markdown",
   "id": "0c788f80",
   "metadata": {},
   "source": [
    "    \"\"\"\n",
    "    Restores an Amazon RDS instance from a specified DB snapshot.\n",
    "\n",
    "    Parameters:\n",
    "    - instance_id: Identifier for the new RDS instance.\n",
    "    - snapshot_id: Identifier of the DB snapshot to restore from.\n",
    "\n",
    "    Returns:\n",
    "    - Response object indicating the success of the instance restoration.\n",
    "    \"\"\""
   ]
  },
  {
   "cell_type": "code",
   "execution_count": 33,
   "id": "1603b836",
   "metadata": {},
   "outputs": [],
   "source": [
    "def restore_db_instance_from_snapshot(instance_id, snapshot_id, session):\n",
    "    rds = session.client('rds')\n",
    "\n",
    "    response = rds.restore_db_instance_from_db_snapshot(\n",
    "        DBInstanceIdentifier=instance_id,\n",
    "        DBSnapshotIdentifier=snapshot_id,\n",
    "        # Add more parameters as needed\n",
    "    )\n",
    "    return response\n"
   ]
  },
  {
   "cell_type": "markdown",
   "id": "dcfd4046",
   "metadata": {},
   "source": [
    " ### example"
   ]
  },
  {
   "cell_type": "code",
   "execution_count": null,
   "id": "f643e391",
   "metadata": {},
   "outputs": [],
   "source": [
    "restore_db_instance_from_snapshot(\"strfrom\", \"storesnapshotstore\", session)"
   ]
  },
  {
   "cell_type": "markdown",
   "id": "15c17b99",
   "metadata": {},
   "source": [
    "# 8 create_db_parameter_group"
   ]
  },
  {
   "cell_type": "markdown",
   "id": "e42cade7",
   "metadata": {},
   "source": [
    "    \"\"\"\n",
    "    Creates a new DB parameter group for Amazon RDS.\n",
    "\n",
    "    Parameters:\n",
    "    - group_name: Name for the new DB parameter group.\n",
    "    - db_parameter_group_family: Parameter group family name.\n",
    "    - description: Description of the parameter group.\n",
    "\n",
    "    Returns:\n",
    "    - Response object indicating the success of the parameter group creation.\n",
    "    \"\"\""
   ]
  },
  {
   "cell_type": "code",
   "execution_count": 39,
   "id": "3511f9a3",
   "metadata": {},
   "outputs": [],
   "source": [
    "def create_db_parameter_group(group_name, db_parameter_group_family, description, session):\n",
    "    rds = session.client('rds')\n",
    "    response = rds.create_db_parameter_group(\n",
    "        DBParameterGroupName=group_name,\n",
    "        DBParameterGroupFamily=db_parameter_group_family,\n",
    "        Description=description\n",
    "    )\n",
    "    return response\n"
   ]
  },
  {
   "cell_type": "markdown",
   "id": "1676d247",
   "metadata": {},
   "source": [
    " ### example"
   ]
  },
  {
   "cell_type": "code",
   "execution_count": null,
   "id": "a56dec41",
   "metadata": {},
   "outputs": [],
   "source": [
    "group_name = 'my-db-parameter-group-shani'\n",
    "db_parameter_group_family = 'mysql8.0'\n",
    "description = 'My custom DB parameter group for MySQL 8.0'\n",
    "create_db_parameter_group(group_name, db_parameter_group_family, description, session)"
   ]
  },
  {
   "cell_type": "markdown",
   "id": "403fd3eb",
   "metadata": {},
   "source": [
    "# 9 modify_db_parameter_group"
   ]
  },
  {
   "cell_type": "markdown",
   "id": "ae55b04d",
   "metadata": {},
   "source": [
    "    \"\"\"\n",
    "    Modifies an existing DB parameter group for Amazon RDS.\n",
    "\n",
    "    Parameters:\n",
    "    - group_name: Name of the DB parameter group to modify.\n",
    "    - parameters: List of parameters to modify.\n",
    "\n",
    "    Returns:\n",
    "    - Response object indicating the success of the parameter group modification.\n",
    "    \"\"\""
   ]
  },
  {
   "cell_type": "code",
   "execution_count": 49,
   "id": "b5115093",
   "metadata": {},
   "outputs": [],
   "source": [
    "def modify_db_parameter_group(group_name, parameters, session):\n",
    "\n",
    "    rds = session.client('rds')\n",
    "    \n",
    "    response = rds.modify_db_parameter_group(\n",
    "        DBParameterGroupName=group_name,\n",
    "        Parameters=parameters\n",
    "    )\n",
    "    return response\n"
   ]
  },
  {
   "cell_type": "markdown",
   "id": "530909cc",
   "metadata": {},
   "source": [
    " ### example"
   ]
  },
  {
   "cell_type": "code",
   "execution_count": null,
   "id": "23bceda5",
   "metadata": {},
   "outputs": [],
   "source": [
    "group_name = 'my-db-parameter-group-shani'\n",
    "parameters = [\n",
    "        {\n",
    "            'ParameterName': 'innodb_buffer_pool_size',\n",
    "            'ParameterValue': '134217728',\n",
    "            'ApplyMethod': 'pending-reboot'\n",
    "        },\n",
    "        {\n",
    "            'ParameterName': 'max_connections',\n",
    "            'ParameterValue': '1000',\n",
    "            'ApplyMethod': 'immediate'\n",
    "        }\n",
    "        # Add more parameters as needed\n",
    "    ]\n",
    "modify_db_parameter_group(group_name, parameters, session)"
   ]
  },
  {
   "cell_type": "markdown",
   "id": "15f8d94d",
   "metadata": {},
   "source": [
    "# 10 delete_rds_instance"
   ]
  },
  {
   "cell_type": "markdown",
   "id": "54a34293",
   "metadata": {},
   "source": [
    "    \"\"\"\n",
    "    Deletes an existing Amazon RDS instance.\n",
    "\n",
    "    Parameters:\n",
    "    - instance_id: Identifier of the RDS instance to delete.\n",
    "    - skip_final_snapshot: Whether to skip creating a final snapshot before deletion.\n",
    "\n",
    "    Returns:\n",
    "    - Response object indicating the success of the instance deletion.\n",
    "    \"\"\""
   ]
  },
  {
   "cell_type": "code",
   "execution_count": 51,
   "id": "d9e875fd",
   "metadata": {},
   "outputs": [],
   "source": [
    "def delete_rds_instance(instance_id, skip_final_snapshot=True, session):\n",
    "    \n",
    "    rds = session.client('rds')\n",
    "    \n",
    "\n",
    "    response = rds.delete_db_instance(\n",
    "        DBInstanceIdentifier=instance_id,\n",
    "        SkipFinalSnapshot=skip_final_snapshot\n",
    "    )\n",
    "    return response\n"
   ]
  },
  {
   "cell_type": "markdown",
   "id": "e03fe36f",
   "metadata": {},
   "source": [
    " ### example"
   ]
  },
  {
   "cell_type": "code",
   "execution_count": null,
   "id": "1762e116",
   "metadata": {},
   "outputs": [],
   "source": [
    "delete_rds_instance(\"store\", session)"
   ]
  },
  {
   "cell_type": "markdown",
   "id": "6c34e68a",
   "metadata": {},
   "source": [
    "# 11 create_db_cluster_parameter_group"
   ]
  },
  {
   "cell_type": "markdown",
   "id": "87b184bd",
   "metadata": {},
   "source": [
    "    \"\"\"\n",
    "    Creates a new DB cluster parameter group in Amazon RDS.\n",
    "\n",
    "    Parameters:\n",
    "    - db_cluster_parameter_group_name (str): The name for the new DB cluster parameter group.\n",
    "    - db_parameter_group_family (str): The family of the DB cluster parameter group.\n",
    "    - description (str): The description for the new DB cluster parameter group.\n",
    "    - tags (list of dict): Tags to associate with the DB cluster parameter group.\n",
    "                           Each tag is a dictionary with 'Key' and 'Value'.\n",
    "    - session (boto3.Session): The boto3 Session object with AWS credentials and region.\n",
    "\n",
    "    Returns:\n",
    "    - response (dict): Response from the create_db_cluster_parameter_group API call.\n",
    "                      Contains information about the created DB cluster parameter group.\n",
    "    \"\"\""
   ]
  },
  {
   "cell_type": "code",
   "execution_count": 17,
   "id": "6ff11004",
   "metadata": {},
   "outputs": [],
   "source": [
    "import boto3\n",
    "\n",
    "def create_db_cluster_parameter_group(db_cluster_parameter_group_name, db_parameter_group_family, description, tags, session):\n",
    "\n",
    "    rds = session.client('rds', region_name=session.region_name)\n",
    "    try:\n",
    "        response = rds.create_db_cluster_parameter_group(\n",
    "            DBClusterParameterGroupName=db_cluster_parameter_group_name,\n",
    "            DBParameterGroupFamily=db_parameter_group_family,\n",
    "            Description=description,\n",
    "            Tags=tags\n",
    "        )\n",
    "        return response\n",
    "    except rds.exceptions.DBParameterGroupAlreadyExistsFault as e:\n",
    "        print(f\"Error: DB cluster parameter group '{db_cluster_parameter_group_name}' already exists.\")\n",
    "        return None\n",
    "    except Exception as e:\n",
    "        print(f\"Error creating DB cluster parameter group '{db_cluster_parameter_group_name}': {e}\")\n",
    "        return None\n",
    "\n"
   ]
  },
  {
   "cell_type": "markdown",
   "id": "a62c5d2d",
   "metadata": {},
   "source": [
    " ### example"
   ]
  },
  {
   "cell_type": "code",
   "execution_count": 19,
   "id": "8aec247b",
   "metadata": {},
   "outputs": [
    {
     "name": "stdout",
     "output_type": "stream",
     "text": [
      "DB cluster parameter group created successfully.\n"
     ]
    }
   ],
   "source": [
    "db_cluster_param_group_name = 'my-cluster-param-group1'\n",
    "db_param_group_family = 'aurora-mysql5.7'\n",
    "description = 'Parameter group for Aurora MySQL 5.7'\n",
    "tags = [{'Key': 'Environment', 'Value': 'Production'}]\n",
    "response = create_db_cluster_parameter_group(db_cluster_param_group_name, db_param_group_family, description, tags, session)\n",
    "if response:\n",
    "    print(\"DB cluster parameter group created successfully.\")\n",
    "    # Optionally, handle response details as needed\n",
    "else:\n",
    "    print(\"Failed to create DB cluster parameter group.\")\n"
   ]
  },
  {
   "cell_type": "markdown",
   "id": "1c165a00",
   "metadata": {},
   "source": [
    "# 12 describe_db_replicas"
   ]
  },
  {
   "cell_type": "markdown",
   "id": "307e9e4a",
   "metadata": {},
   "source": [
    "    \"\"\"\n",
    "    Retrieves information about DB replicas (read replicas) using boto3.\n",
    "\n",
    "    Parameters:\n",
    "    - session (boto3.Session): Boto3 session object with AWS credentials and region.\n",
    "\n",
    "    Returns:\n",
    "    - replicas (list of dict): List of DB replica instances with their details.\n",
    "                              Each replica is represented as a dictionary.\n",
    "                              Returns None if no replicas are found or if an error occurs.\n",
    "    \"\"\""
   ]
  },
  {
   "cell_type": "code",
   "execution_count": 30,
   "id": "ee2c65d0",
   "metadata": {},
   "outputs": [],
   "source": [
    "import boto3\n",
    "\n",
    "def describe_db_replicas(session):\n",
    "\n",
    "    try:\n",
    "        # Initialize the RDS client with the provided session\n",
    "        rds = session.client('rds')\n",
    "\n",
    "        # Describe DB instances to retrieve all instances including replicas\n",
    "        response = rds.describe_db_instances()\n",
    "\n",
    "        # Check if 'DBInstances' key exists in response\n",
    "        if 'DBInstances' in response:\n",
    "            # Filter out replicas by checking if 'ReadReplicaSourceDBInstanceIdentifier' exists\n",
    "            replicas = [db_instance for db_instance in response['DBInstances'] if db_instance.get('ReadReplicaSourceDBInstanceIdentifier')]\n",
    "\n",
    "            # Print details of each replica found\n",
    "            for replica in replicas:\n",
    "                print(f\"Replica ID: {replica['DBInstanceIdentifier']}, Source: {replica['ReadReplicaSourceDBInstanceIdentifier']}\")\n",
    "\n",
    "            return replicas\n",
    "        else:\n",
    "            print(\"No 'DBInstances' key found in response.\")\n",
    "            return None\n",
    "\n",
    "    except Exception as e:\n",
    "        print(f\"Error describing DB replicas: {e}\")\n",
    "        return None\n"
   ]
  },
  {
   "cell_type": "markdown",
   "id": "59d92aec",
   "metadata": {},
   "source": [
    " ### example"
   ]
  },
  {
   "cell_type": "code",
   "execution_count": null,
   "id": "f4c6bd28",
   "metadata": {},
   "outputs": [],
   "source": [
    "describe_db_replicas(session)"
   ]
  }
 ],
 "metadata": {
  "kernelspec": {
   "display_name": "Python 3 (ipykernel)",
   "language": "python",
   "name": "python3"
  },
  "language_info": {
   "codemirror_mode": {
    "name": "ipython",
    "version": 3
   },
   "file_extension": ".py",
   "mimetype": "text/x-python",
   "name": "python",
   "nbconvert_exporter": "python",
   "pygments_lexer": "ipython3",
   "version": "3.11.3"
  }
 },
 "nbformat": 4,
 "nbformat_minor": 5
}
